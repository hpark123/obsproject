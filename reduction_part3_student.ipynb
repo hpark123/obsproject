{
 "cells": [
  {
   "cell_type": "markdown",
   "metadata": {},
   "source": [
    "<h2>OBSERVATIONAL ASTROPHYSICS – FALL 2019 Reduction Exercise: Part 3</h2>\n",
    "\n",
    "In this part you will take all of your images in a given band and align them using a program called \"astroalign\"\n",
    "\n",
    "We will be aligning images with the http://toros-astro.github.io/astroalign/ package\n",
    "\n",
    "First, from within your python3 enviroment you will need to run \"*conda install astroalign*\" to install the package"
   ]
  },
  {
   "cell_type": "code",
   "execution_count": 15,
   "metadata": {},
   "outputs": [],
   "source": [
    "import astroalign as aa\n",
    "import numpy as np\n",
    "import matplotlib.pyplot as plt\n",
    "#%matplotlib inline\n",
    "from astropy.io import fits"
   ]
  },
  {
   "cell_type": "markdown",
   "metadata": {},
   "source": [
    "A function that takes an source image name, a target image name to which the source will be transformed, and an output file name.  The output file will be the source image transformed to match the target image."
   ]
  },
  {
   "cell_type": "code",
   "execution_count": 16,
   "metadata": {},
   "outputs": [],
   "source": [
    "\n",
    "def im_trans(filesource,filetarg,fileout):\n",
    "    #filesource is the file that you want to be transformed\n",
    "    #filetarg is the file that you want to transform the first file to\n",
    "    #fileout is the output file that has been transformed\n",
    "\n",
    "    redpath = \"/home/h126p132/ASTR596/Data/Reduced/\"\n",
    "    imgfilesource = redpath + filesource\n",
    "    imgfiletarg = redpath + filetarg\n",
    "    print(imgfilesource)\n",
    "\n",
    "    #read in the source file and target file, splitting the file into a data and header component\n",
    "    imgsource, hdrsource = fits.getdata(imgfilesource, header=True)\n",
    "    imgtarg, hdrtarg = fits.getdata(imgfiletarg, header=True)\n",
    "\n",
    "    #run the alignment tool.\n",
    "    imgsource_aligned, footprint = aa.register(imgsource, imgtarg)\n",
    "\n",
    "    #write out the transformed file\n",
    "    imtransname = redpath + fileout\n",
    "    fits.writeto(imtransname, imgsource_aligned, header=hdrsource, overwrite=True)\n",
    "\n",
    "    #find the transformation\n",
    "    p, (pos_imgsource, pos_imgsource_aligned) = aa.find_transform(imgsource, imgtarg)\n",
    "                            \n",
    "    #print out the transformation\n",
    "    #******check that the output makes sense for each target\n",
    "    print(\"Rotation: {:.2f} degrees\".format(p.rotation * 180.0 / np.pi))\n",
    "    print(\"\\nScale factor: {:.2f}\".format(p.scale))\n",
    "    print(\"\\nTranslation: (x, y) = ({:.2f}, {:.2f})\".format(*p.translation))\n",
    "    \n",
    "    #plot the stars found in common in each plot\n",
    "    fig, axes = plt.subplots(2, 2, figsize=(10, 10))\n",
    "\n",
    "    colors = ['r', 'g', 'b', 'y', 'cyan', 'w', 'm']\n",
    "\n",
    "    axes[0, 0].imshow(imgsource, cmap='gray', interpolation='none', origin='lower',vmin = 250, vmax = 1000)\n",
    "    axes[0, 0].axis('off')\n",
    "    axes[0, 0].set_title(\"Source Image\")\n",
    "    for (xp, yp), c in zip(pos_imgsource[:len(colors)], colors):\n",
    "        circ = plt.Circle((xp, yp), 4, fill=False, edgecolor=c, linewidth=5)\n",
    "        axes[0, 0].add_patch(circ)\n",
    "\n",
    "    axes[0, 1].imshow(imgtarg, cmap='gray', interpolation='none', origin='lower',vmin = 250, vmax = 1000)\n",
    "    axes[0, 1].axis('off')\n",
    "    axes[0, 1].set_title(\"Target Image\")\n",
    "    for (xp, yp), c in zip(pos_imgsource_aligned[:len(colors)], colors):\n",
    "        circ = plt.Circle((xp, yp), 4 * p.scale, fill=False, edgecolor=c, linewidth=5)\n",
    "        axes[0, 1].add_patch(circ)\n",
    "\n",
    "    axes[1, 1].imshow(imgsource_aligned, cmap='gray', interpolation='none', origin='lower',vmin = 250, vmax = 1000)\n",
    "    axes[1, 1].axis('off')\n",
    "    axes[1, 1].set_title(\"Source Image aligned with Target\")\n",
    "    for (xp, yp), c in zip(pos_imgsource_aligned[:len(colors)], colors):\n",
    "        circ = plt.Circle((xp, yp), 4 * p.scale, fill=False, edgecolor=c, linewidth=5)\n",
    "        axes[1, 1].add_patch(circ)\n",
    "\n",
    "    axes[1, 0].axis('off')\n",
    "\n",
    "    plt.tight_layout()\n",
    "    plt.show()"
   ]
  },
  {
   "cell_type": "markdown",
   "metadata": {},
   "source": [
    "Make a series of calls to this function that transform each of your images to the first image in that band for each target.  I give an example below."
   ]
  },
  {
   "cell_type": "code",
   "execution_count": 19,
   "metadata": {},
   "outputs": [
    {
     "name": "stdout",
     "output_type": "stream",
     "text": [
      "/home/h126p132/ASTR596/Data/Reduced/s061_trf.fits\n"
     ]
    },
    {
     "ename": "MaxIterError",
     "evalue": "Max iterations exceeded while trying to find acceptable transformation.",
     "output_type": "error",
     "traceback": [
      "\u001b[0;31m---------------------------------------------------------------------------\u001b[0m",
      "\u001b[0;31mMaxIterError\u001b[0m                              Traceback (most recent call last)",
      "\u001b[0;32m<ipython-input-19-1e0dd7f1643a>\u001b[0m in \u001b[0;36m<module>\u001b[0;34m\u001b[0m\n\u001b[1;32m      1\u001b[0m \u001b[0;31m#***********\u001b[0m\u001b[0;34m\u001b[0m\u001b[0;34m\u001b[0m\u001b[0;34m\u001b[0m\u001b[0m\n\u001b[1;32m      2\u001b[0m \u001b[0;31m#NGC 7296 V-band\u001b[0m\u001b[0;34m\u001b[0m\u001b[0;34m\u001b[0m\u001b[0;34m\u001b[0m\u001b[0m\n\u001b[0;32m----> 3\u001b[0;31m \u001b[0mim_trans\u001b[0m\u001b[0;34m(\u001b[0m\u001b[0;34m\"s061_trf.fits\"\u001b[0m\u001b[0;34m,\u001b[0m\u001b[0;34m\"s060_trf.fits\"\u001b[0m\u001b[0;34m,\u001b[0m\u001b[0;34m\"s061_trfa.fits\"\u001b[0m\u001b[0;34m)\u001b[0m\u001b[0;34m\u001b[0m\u001b[0;34m\u001b[0m\u001b[0m\n\u001b[0m\u001b[1;32m      4\u001b[0m \u001b[0mim_trans\u001b[0m\u001b[0;34m(\u001b[0m\u001b[0;34m\"s062_trf.fits\"\u001b[0m\u001b[0;34m,\u001b[0m\u001b[0;34m\"s060_trf.fits\"\u001b[0m\u001b[0;34m,\u001b[0m\u001b[0;34m\"s062_trfa.fits\"\u001b[0m\u001b[0;34m)\u001b[0m\u001b[0;34m\u001b[0m\u001b[0;34m\u001b[0m\u001b[0m\n",
      "\u001b[0;32m<ipython-input-16-be7ee1093727>\u001b[0m in \u001b[0;36mim_trans\u001b[0;34m(filesource, filetarg, fileout)\u001b[0m\n\u001b[1;32m     14\u001b[0m \u001b[0;34m\u001b[0m\u001b[0m\n\u001b[1;32m     15\u001b[0m     \u001b[0;31m#run the alignment tool.\u001b[0m\u001b[0;34m\u001b[0m\u001b[0;34m\u001b[0m\u001b[0;34m\u001b[0m\u001b[0m\n\u001b[0;32m---> 16\u001b[0;31m     \u001b[0mimgsource_aligned\u001b[0m\u001b[0;34m,\u001b[0m \u001b[0mfootprint\u001b[0m \u001b[0;34m=\u001b[0m \u001b[0maa\u001b[0m\u001b[0;34m.\u001b[0m\u001b[0mregister\u001b[0m\u001b[0;34m(\u001b[0m\u001b[0mimgsource\u001b[0m\u001b[0;34m,\u001b[0m \u001b[0mimgtarg\u001b[0m\u001b[0;34m)\u001b[0m\u001b[0;34m\u001b[0m\u001b[0;34m\u001b[0m\u001b[0m\n\u001b[0m\u001b[1;32m     17\u001b[0m \u001b[0;34m\u001b[0m\u001b[0m\n\u001b[1;32m     18\u001b[0m     \u001b[0;31m#write out the transformed file\u001b[0m\u001b[0;34m\u001b[0m\u001b[0;34m\u001b[0m\u001b[0;34m\u001b[0m\u001b[0m\n",
      "\u001b[0;32m~/.conda/envs/python3env/lib/python3.7/site-packages/astroalign.py\u001b[0m in \u001b[0;36mregister\u001b[0;34m(source, target, fill_value, propagate_mask)\u001b[0m\n\u001b[1;32m    374\u001b[0m \u001b[0;34m\u001b[0m\u001b[0m\n\u001b[1;32m    375\u001b[0m     \"\"\"\n\u001b[0;32m--> 376\u001b[0;31m     \u001b[0mt\u001b[0m\u001b[0;34m,\u001b[0m \u001b[0m__\u001b[0m \u001b[0;34m=\u001b[0m \u001b[0mfind_transform\u001b[0m\u001b[0;34m(\u001b[0m\u001b[0msource\u001b[0m\u001b[0;34m=\u001b[0m\u001b[0msource\u001b[0m\u001b[0;34m,\u001b[0m \u001b[0mtarget\u001b[0m\u001b[0;34m=\u001b[0m\u001b[0mtarget\u001b[0m\u001b[0;34m)\u001b[0m\u001b[0;34m\u001b[0m\u001b[0;34m\u001b[0m\u001b[0m\n\u001b[0m\u001b[1;32m    377\u001b[0m     aligned_image, footprint = apply_transform(t, source, target,\n\u001b[1;32m    378\u001b[0m                                                \u001b[0mfill_value\u001b[0m\u001b[0;34m,\u001b[0m \u001b[0mpropagate_mask\u001b[0m\u001b[0;34m,\u001b[0m\u001b[0;34m\u001b[0m\u001b[0;34m\u001b[0m\u001b[0m\n",
      "\u001b[0;32m~/.conda/envs/python3env/lib/python3.7/site-packages/astroalign.py\u001b[0m in \u001b[0;36mfind_transform\u001b[0;34m(source, target)\u001b[0m\n\u001b[1;32m    283\u001b[0m     \u001b[0;32melse\u001b[0m\u001b[0;34m:\u001b[0m\u001b[0;34m\u001b[0m\u001b[0;34m\u001b[0m\u001b[0m\n\u001b[1;32m    284\u001b[0m         best_t, inlier_ind = _ransac(\n\u001b[0;32m--> 285\u001b[0;31m             \u001b[0mmatches\u001b[0m\u001b[0;34m,\u001b[0m \u001b[0minv_model\u001b[0m\u001b[0;34m,\u001b[0m \u001b[0;36m1\u001b[0m\u001b[0;34m,\u001b[0m \u001b[0mmax_iter\u001b[0m\u001b[0;34m,\u001b[0m \u001b[0mPIXEL_TOL\u001b[0m\u001b[0;34m,\u001b[0m \u001b[0mmin_matches\u001b[0m\u001b[0;34m\u001b[0m\u001b[0;34m\u001b[0m\u001b[0m\n\u001b[0m\u001b[1;32m    286\u001b[0m         )\n\u001b[1;32m    287\u001b[0m     \u001b[0mtriangle_inliers\u001b[0m \u001b[0;34m=\u001b[0m \u001b[0mmatches\u001b[0m\u001b[0;34m[\u001b[0m\u001b[0minlier_ind\u001b[0m\u001b[0;34m]\u001b[0m\u001b[0;34m\u001b[0m\u001b[0;34m\u001b[0m\u001b[0m\n",
      "\u001b[0;32m~/.conda/envs/python3env/lib/python3.7/site-packages/astroalign.py\u001b[0m in \u001b[0;36m_ransac\u001b[0;34m(data, model, min_data_points, max_iter, thresh, min_matches)\u001b[0m\n\u001b[1;32m    477\u001b[0m     \u001b[0;32mif\u001b[0m \u001b[0mbestfit\u001b[0m \u001b[0;32mis\u001b[0m \u001b[0;32mNone\u001b[0m\u001b[0;34m:\u001b[0m\u001b[0;34m\u001b[0m\u001b[0;34m\u001b[0m\u001b[0m\n\u001b[1;32m    478\u001b[0m         raise MaxIterError(\n\u001b[0;32m--> 479\u001b[0;31m             \u001b[0;34m\"Max iterations exceeded while trying to find \"\u001b[0m\u001b[0;34m\u001b[0m\u001b[0;34m\u001b[0m\u001b[0m\n\u001b[0m\u001b[1;32m    480\u001b[0m             \"acceptable transformation.\")\n\u001b[1;32m    481\u001b[0m \u001b[0;34m\u001b[0m\u001b[0m\n",
      "\u001b[0;31mMaxIterError\u001b[0m: Max iterations exceeded while trying to find acceptable transformation."
     ]
    }
   ],
   "source": [
    "#***********\n",
    "#NGC 7296 V-band\n",
    "im_trans(\"s061_trf.fits\",\"s060_trf.fits\",\"s061_trfa.fits\")\n",
    "im_trans(\"s062_trf.fits\",\"s060_trf.fits\",\"s062_trfa.fits\")\n",
    "im_trans(\"s063_trf.fits\",\"s060_trf.fits\",\"s063_trfa.fits\")\n",
    "im_trans(\"s064_trf.fits\",\"s060_trf.fits\",\"s064_trfa.fits\")\n",
    "im_trans(\"s065_trf.fits\",\"s060_trf.fits\",\"s065_trfa.fits\")\n",
    "im_trans(\"s066_trf.fits\",\"s060_trf.fits\",\"s066_trfa.fits\")\n",
    "im_trans(\"s067_trf.fits\",\"s060_trf.fits\",\"s067_trfa.fits\")\n",
    "im_trans(\"s068_trf.fits\",\"s060_trf.fits\",\"s068_trfa.fits\")\n",
    "im_trans(\"s069_trf.fits\",\"s060_trf.fits\",\"s069_trfa.fits\")\n",
    "im_trans(\"s070_trf.fits\",\"s060_trf.fits\",\"s070_trfa.fits\")"
   ]
  },
  {
   "cell_type": "markdown",
   "metadata": {},
   "source": [
    "Now open the transformed images in ds9 in different and confirm that they are aligned by blinking the frames."
   ]
  },
  {
   "cell_type": "code",
   "execution_count": null,
   "metadata": {},
   "outputs": [],
   "source": []
  },
  {
   "cell_type": "code",
   "execution_count": null,
   "metadata": {},
   "outputs": [],
   "source": []
  },
  {
   "cell_type": "code",
   "execution_count": null,
   "metadata": {},
   "outputs": [],
   "source": []
  }
 ],
 "metadata": {
  "kernelspec": {
   "display_name": "Python 3",
   "language": "python",
   "name": "python3"
  },
  "language_info": {
   "codemirror_mode": {
    "name": "ipython",
    "version": 3
   },
   "file_extension": ".py",
   "mimetype": "text/x-python",
   "name": "python",
   "nbconvert_exporter": "python",
   "pygments_lexer": "ipython3",
   "version": "3.7.4"
  }
 },
 "nbformat": 4,
 "nbformat_minor": 2
}
